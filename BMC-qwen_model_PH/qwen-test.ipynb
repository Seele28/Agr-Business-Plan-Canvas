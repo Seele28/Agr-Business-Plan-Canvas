{
 "cells": [
  {
   "cell_type": "code",
   "metadata": {},
   "source": [
    "# Cell 1: Installation and imports\n",
    "!pip install dashscope  # Install Aliyun SDK\n",
    "import dashscope\n",
    "import os\n",
    "import json\n",
    "from collections import deque"
   ],
   "outputs": [],
   "execution_count": null
  },
  {
   "cell_type": "code",
   "metadata": {},
   "source": [
    "# Define the directory containing the JSON files\n",
    "directory = 'dataProcess/data'\n",
    "\n",
    "# Initialize an empty list to hold the JSON strings\n",
    "json_strings = []\n",
    "\n",
    "# Iterate over all files in the directory\n",
    "for filename in os.listdir(directory):\n",
    "    if filename.endswith('.json'):\n",
    "        filepath = os.path.join(directory, filename)\n",
    "        with open(filepath, 'r') as file:\n",
    "            # Read the file content and append to the list\n",
    "            json_strings.append(file.read())\n",
    "\n",
    "# Now json_strings contains all the JSON file contents as strings\n",
    "# for i, json_str in enumerate(json_strings):\n",
    "#     print(f\"Content of file {i+1}: {json_str[:100]}...\")  # Print first 100 characters of each file for verification\n",
    "\n",
    "print(json_strings[0])\n",
    "print(type(json_strings[0]))"
   ],
   "outputs": [],
   "execution_count": null
  },
  {
   "cell_type": "code",
   "metadata": {},
   "source": [
    "# Cell 3: Test BMC generation\n",
    "# Initialize DashScope with API key\n",
    "dashscope.api_key = \"sk-dedc134569de4bc5aa760d2a90146ccc\"\n",
    "\n",
    "prompt = \"I want to start a company in mail delivery. Generate a Business Model Canvas for my business.\"\n",
    "\n",
    "messages = [\n",
    "    {\n",
    "        \"role\": \"system\",\n",
    "        \"content\": \"You are a professional business consultant. You are helping a client to build a business model canvas (BMC).\"\n",
    "    },\n",
    "    {\n",
    "        \"role\": \"user\",\n",
    "        \"content\": prompt + \"Here are some examples of industry and BMC:\" + json_strings[0] + json_strings[1] +\n",
    "                   \"\\n Note: You should return ONLY a JSON dictionary for each of the keys: key_partners, key_activities, \" +\n",
    "                   \"key_resources, value_propositions, customer_relationships, channels, customer_segments, cost_structure, \" +\n",
    "                   \"revenue_streams according to the information provided. Each key should be a list of strings. \" +\n",
    "                   \"The client will provide you with the information needed to generate the BMC. You should generate the BMC based \" +\n",
    "                   \"on the information provided by the client. If the client asks to modify a specific key, you should modify \" +\n",
    "                   \"that key and keep everything else unchanged.\"\n",
    "    }\n",
    "]\n",
    "\n",
    "response = dashscope.Generation.call(\n",
    "    model='qwen-turbo',\n",
    "    messages=messages,\n",
    "    max_tokens=2048,\n",
    "    result_format='json',\n",
    "    response_format={'type': 'json_object'},\n",
    "    top_p=0.8,\n",
    "    temperature=0.7\n",
    ")\n",
    "\n",
    "if response.status_code == 200:\n",
    "    print(response.output.choices[0].message.content)\n",
    "else:\n",
    "    print(f\"Error: {response.status_code}\")"
   ],
   "outputs": [],
   "execution_count": null
  },
  {
   "metadata": {},
   "cell_type": "code",
   "outputs": [],
   "execution_count": null,
   "source": [
    "# Cell 4: Test JSON parsing\n",
    "content = response.output.choices[0].message.content\n",
    "print(type(content))\n",
    "parsed_json = json.loads(content)\n",
    "print(parsed_json)"
   ]
  },
  {
   "cell_type": "code",
   "metadata": {},
   "source": "",
   "outputs": [],
   "execution_count": null
  },
  {
   "cell_type": "code",
   "metadata": {},
   "source": [
    "# Cell 5: Test history functionality\n",
    "history = deque([], maxlen=5)\n",
    "history.append([1])\n",
    "print(type(history))\n",
    "print(len(history))\n",
    "print(str(list(history)))"
   ],
   "outputs": [],
   "execution_count": null
  },
  {
   "cell_type": "code",
   "metadata": {},
   "source": [
    "# Cell 6: Test basic chat functionality\n",
    "messages = [\n",
    "    {\"role\": \"system\", \"content\": \"You are an AI assistant.\"},\n",
    "    {\"role\": \"user\", \"content\": \"Hello!\"}\n",
    "]\n",
    "\n",
    "response = dashscope.Generation.call(\n",
    "    model='qwen-turbo',\n",
    "    messages=messages,\n",
    "    max_tokens=2048,\n",
    "    result_format='message'\n",
    ")\n",
    "\n",
    "if response.status_code == 200:\n",
    "    print(response.output.choices[0].message.content)\n",
    "else:\n",
    "    print(f\"Error: {response.status_code}\")\n"
   ],
   "outputs": [],
   "execution_count": null
  },
  {
   "cell_type": "code",
   "metadata": {},
   "source": [
    "# Cell 7: Test string concatenation\n",
    "print(\"123\"+str([1,2]))"
   ],
   "outputs": [],
   "execution_count": null
  }
 ],
 "metadata": {
  "kernelspec": {
   "display_name": "Python 3.10.14 64-bit",
   "language": "python",
   "name": "python3"
  },
  "language_info": {
   "codemirror_mode": {
    "name": "ipython",
    "version": 3
   },
   "file_extension": ".py",
   "mimetype": "text/x-python",
   "name": "python",
   "nbconvert_exporter": "python",
   "pygments_lexer": "ipython3",
   "version": "3.10.14"
  },
  "orig_nbformat": 4,
  "vscode": {
   "interpreter": {
    "hash": "bd385fe162c5ca0c84973b7dd5c518456272446b2b64e67c2a69f949ca7a1754"
   }
  }
 },
 "nbformat": 4,
 "nbformat_minor": 2
}
