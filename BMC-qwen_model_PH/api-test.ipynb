{
 "cells": [
  {
   "cell_type": "code",
   "execution_count": 1,
   "id": "initial_id",
   "metadata": {
    "ExecuteTime": {
     "end_time": "2024-07-09T10:05:51.783078Z",
     "start_time": "2024-07-09T10:05:51.774354Z"
    },
    "collapsed": true
   },
   "outputs": [],
   "source": [
    "with open('kimi-api.txt', 'r') as f:\n",
    "    KIMI_API_KEY = f.read().strip()"
   ]
  },
  {
   "cell_type": "code",
   "execution_count": 7,
   "id": "14c69055831d7bd2",
   "metadata": {
    "ExecuteTime": {
     "end_time": "2024-07-09T10:09:01.317818Z",
     "start_time": "2024-07-09T10:08:48.693262Z"
    }
   },
   "outputs": [],
   "source": [
    "from openai import OpenAI\n",
    "\n",
    "client = OpenAI(\n",
    "    # 👇 这里指定 Kimi 的 API Key\n",
    "    api_key=f\"{KIMI_API_KEY}\",\n",
    "\n",
    "    # 👇 这里指定 Kimi 的 API 地址\n",
    "    base_url=\"https://api.moonshot.cn/v1\",\n",
    ")\n",
    "\n",
    "# completion = client.chat.completions.create(\n",
    "#     # 👇 这里指定 Kimi 的模型名称\n",
    "#     model=\"moonshot-v1-8k\",\n",
    "# \n",
    "#     messages=[\n",
    "#         { \"role\": \"user\", \"content\": \"Please answer all my questions in English. Generate a random Business Model Canvas (BMC). Only output the BMC, without additional explanation.\" }\n",
    "#     ],\n",
    "# )\n",
    "completion = client.chat.completions.create(\n",
    "        # 👇 这里指定 Kimi 的模型名称\n",
    "        model=\"moonshot-v1-8k\",\n",
    "\n",
    "        messages=[\n",
    "            {\"role\": \"user\",\n",
    "             \"content\": 'Generate a random Business Model Canvas. ' + 'According to the information above, construct a Business Canvas Model. '\n",
    "                                  'Return as json format for each of the keys: key_partners, key_activities, '\n",
    "                                  'key_resources, value_proposition, customer_relationship, channels, customer_segments'\n",
    "                                  ', cost_structure, revenue_streams.'}\n",
    "        ],\n",
    "\n",
    "        response_format={\"type\": \"json_object\"},\n",
    "        n=1\n",
    "\n",
    "    )"
   ]
  },
  {
   "cell_type": "code",
   "execution_count": 8,
   "id": "56c194685b2a59b4",
   "metadata": {
    "ExecuteTime": {
     "end_time": "2024-07-09T10:09:04.308439Z",
     "start_time": "2024-07-09T10:09:04.301475Z"
    }
   },
   "outputs": [
    {
     "data": {
      "text/plain": [
       "{'key_partners': ['Local farmers and suppliers',\n",
       "  'Eco-friendly packaging manufacturers',\n",
       "  'Online marketing agencies'],\n",
       " 'key_activities': ['Sourcing high-quality, organic ingredients',\n",
       "  'Developing unique recipes and formulations',\n",
       "  'Ensuring sustainable and ethical production practices',\n",
       "  'Building and maintaining an online presence'],\n",
       " 'key_resources': ['Organic ingredients',\n",
       "  'Production facilities',\n",
       "  'Eco-friendly packaging materials',\n",
       "  'Online marketing and sales channels'],\n",
       " 'value_proposition': 'Offering a range of high-quality, organic, and eco-friendly skincare products that promote a healthy lifestyle and support sustainable practices.',\n",
       " 'customer_relationship': 'Providing excellent customer service, personalized product recommendations, and educational content on the benefits of using organic and eco-friendly skincare products.',\n",
       " 'channels': ['E-commerce website',\n",
       "  'Social media platforms',\n",
       "  'Influencer partnerships',\n",
       "  'Email marketing campaigns'],\n",
       " 'customer_segments': ['Health-conscious consumers',\n",
       "  'Eco-aware and environmentally friendly individuals',\n",
       "  'Beauty and skincare enthusiasts',\n",
       "  'Individuals with sensitive skin or allergies'],\n",
       " 'cost_structure': ['Sourcing and purchasing organic ingredients',\n",
       "  'Production and manufacturing costs',\n",
       "  'Eco-friendly packaging and shipping materials',\n",
       "  'Online marketing and advertising expenses',\n",
       "  'Research and development for new products'],\n",
       " 'revenue_streams': ['Sales of skincare products through the e-commerce website',\n",
       "  'Wholesale partnerships with local retailers and health stores',\n",
       "  'Subscription-based model for regular product deliveries',\n",
       "  'Affiliate marketing and partnerships with influencers']}"
      ]
     },
     "execution_count": 8,
     "metadata": {},
     "output_type": "execute_result"
    }
   ],
   "source": [
    "import json\n",
    "\n",
    "json.loads(completion.choices[0].message.content)"
   ]
  },
  {
   "cell_type": "code",
   "execution_count": null,
   "id": "4af9e24eb4df8a4c",
   "metadata": {},
   "outputs": [],
   "source": []
  }
 ],
 "metadata": {
  "kernelspec": {
   "display_name": "Python 3.12.3 64-bit",
   "language": "python",
   "name": "python3"
  },
  "language_info": {
   "codemirror_mode": {
    "name": "ipython",
    "version": 2
   },
   "file_extension": ".py",
   "mimetype": "text/x-python",
   "name": "python",
   "nbconvert_exporter": "python",
   "pygments_lexer": "ipython2",
   "version": "3.12.3"
  },
  "vscode": {
   "interpreter": {
    "hash": "b0fa6594d8f4cbf19f97940f81e996739fb7646882a419484c72d19e05852a7e"
   }
  }
 },
 "nbformat": 4,
 "nbformat_minor": 5
}
